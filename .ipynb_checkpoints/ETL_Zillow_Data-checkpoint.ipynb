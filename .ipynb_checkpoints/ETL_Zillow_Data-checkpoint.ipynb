{
 "cells": [
  {
   "cell_type": "code",
   "execution_count": null,
   "metadata": {},
   "outputs": [],
   "source": [
    "!pip install gspread oauth2client"
   ]
  },
  {
   "cell_type": "code",
   "execution_count": 1,
   "metadata": {},
   "outputs": [],
   "source": [
    "import pandas as pd\n",
    "import gspread \n",
    "from oauth2client.service_account import ServiceAccountCredentials"
   ]
  },
  {
   "cell_type": "code",
   "execution_count": 12,
   "metadata": {},
   "outputs": [
    {
     "name": "stdout",
     "output_type": "stream",
     "text": [
      "[<Worksheet 'All Homes' id:0>]\n",
      "[<Worksheet 'All Homes' id:0>]\n",
      "[<Worksheet 'All Homes' id:0>]\n"
     ]
    }
   ],
   "source": [
    "scope=[\"https://spreadsheets.google.com/feeds\",\n",
    "       \"https://www.googleapis.com/auth/spreadsheets\",\n",
    "       \"https://www.googleapis.com/auth/drive.file\",\n",
    "       \"https://www.googleapis.com/auth/drive\"]\n",
    "\n",
    "\n",
    "creds = ServiceAccountCredentials.from_json_keyfile_name(\"credentials.json\",scope)\n",
    "\n",
    "client = gspread.authorize(creds)\n",
    "\n",
    "sheets = client.open(\"US_Sale_Inventory_Monthly\")\n",
    "\n",
    "print(sheets.worksheets())\n",
    "\n",
    "sheets = client.open(\"US_Pending_Inventory_monthly\")\n",
    "\n",
    "print(sheets.worksheets())\n",
    "\n",
    "sheets = client.open(\"ZORI_AllHomesPlusMultifamily_ZIP\")\n",
    "\n",
    "print(sheets.worksheets())\n",
    "\n",
    "\n",
    "# ws = sheet.worksheet(\"test\").get_all_records()\n",
    "\n",
    "# print(ws)\n",
    "\n",
    "# df = pd.DataFrame(ws)\n",
    "# df\n",
    "\n",
    "\n",
    "\n",
    "# data = sheet.get_all_records()\n",
    "\n"
   ]
  },
  {
   "cell_type": "code",
   "execution_count": null,
   "metadata": {},
   "outputs": [],
   "source": []
  },
  {
   "cell_type": "code",
   "execution_count": null,
   "metadata": {},
   "outputs": [],
   "source": []
  },
  {
   "cell_type": "code",
   "execution_count": null,
   "metadata": {},
   "outputs": [],
   "source": []
  }
 ],
 "metadata": {
  "kernelspec": {
   "display_name": "Python 3",
   "language": "python",
   "name": "python3"
  },
  "language_info": {
   "codemirror_mode": {
    "name": "ipython",
    "version": 3
   },
   "file_extension": ".py",
   "mimetype": "text/x-python",
   "name": "python",
   "nbconvert_exporter": "python",
   "pygments_lexer": "ipython3",
   "version": "3.8.5"
  }
 },
 "nbformat": 4,
 "nbformat_minor": 4
}
